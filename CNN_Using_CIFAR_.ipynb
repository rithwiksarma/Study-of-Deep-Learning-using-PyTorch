{
  "nbformat": 4,
  "nbformat_minor": 0,
  "metadata": {
    "colab": {
      "name": "CNN Using CIFAR .ipynb",
      "provenance": []
    },
    "kernelspec": {
      "name": "python3",
      "display_name": "Python 3"
    },
    "language_info": {
      "name": "python"
    },
    "accelerator": "GPU",
    "widgets": {
      "application/vnd.jupyter.widget-state+json": {
        "179ed9fee5d04f68b3ee917b67fd13a2": {
          "model_module": "@jupyter-widgets/controls",
          "model_name": "HBoxModel",
          "state": {
            "_view_name": "HBoxView",
            "_dom_classes": [],
            "_model_name": "HBoxModel",
            "_view_module": "@jupyter-widgets/controls",
            "_model_module_version": "1.5.0",
            "_view_count": null,
            "_view_module_version": "1.5.0",
            "box_style": "",
            "layout": "IPY_MODEL_133634cfef6d4cdbb8fbadefa356138a",
            "_model_module": "@jupyter-widgets/controls",
            "children": [
              "IPY_MODEL_43bd04d9ba344c29bcc4912d52497753",
              "IPY_MODEL_f5816296125e4338bb568b26157ac4da"
            ]
          }
        },
        "133634cfef6d4cdbb8fbadefa356138a": {
          "model_module": "@jupyter-widgets/base",
          "model_name": "LayoutModel",
          "state": {
            "_view_name": "LayoutView",
            "grid_template_rows": null,
            "right": null,
            "justify_content": null,
            "_view_module": "@jupyter-widgets/base",
            "overflow": null,
            "_model_module_version": "1.2.0",
            "_view_count": null,
            "flex_flow": null,
            "width": null,
            "min_width": null,
            "border": null,
            "align_items": null,
            "bottom": null,
            "_model_module": "@jupyter-widgets/base",
            "top": null,
            "grid_column": null,
            "overflow_y": null,
            "overflow_x": null,
            "grid_auto_flow": null,
            "grid_area": null,
            "grid_template_columns": null,
            "flex": null,
            "_model_name": "LayoutModel",
            "justify_items": null,
            "grid_row": null,
            "max_height": null,
            "align_content": null,
            "visibility": null,
            "align_self": null,
            "height": null,
            "min_height": null,
            "padding": null,
            "grid_auto_rows": null,
            "grid_gap": null,
            "max_width": null,
            "order": null,
            "_view_module_version": "1.2.0",
            "grid_template_areas": null,
            "object_position": null,
            "object_fit": null,
            "grid_auto_columns": null,
            "margin": null,
            "display": null,
            "left": null
          }
        },
        "43bd04d9ba344c29bcc4912d52497753": {
          "model_module": "@jupyter-widgets/controls",
          "model_name": "FloatProgressModel",
          "state": {
            "_view_name": "ProgressView",
            "style": "IPY_MODEL_9610c207a6724587a0fe1e576db4c949",
            "_dom_classes": [],
            "description": "",
            "_model_name": "FloatProgressModel",
            "bar_style": "success",
            "max": 170498071,
            "_view_module": "@jupyter-widgets/controls",
            "_model_module_version": "1.5.0",
            "value": 170498071,
            "_view_count": null,
            "_view_module_version": "1.5.0",
            "orientation": "horizontal",
            "min": 0,
            "description_tooltip": null,
            "_model_module": "@jupyter-widgets/controls",
            "layout": "IPY_MODEL_cda4b67108f242a3950d13c13549ebd0"
          }
        },
        "f5816296125e4338bb568b26157ac4da": {
          "model_module": "@jupyter-widgets/controls",
          "model_name": "HTMLModel",
          "state": {
            "_view_name": "HTMLView",
            "style": "IPY_MODEL_075a4ec438654c9f85fc84720bd4ce4a",
            "_dom_classes": [],
            "description": "",
            "_model_name": "HTMLModel",
            "placeholder": "​",
            "_view_module": "@jupyter-widgets/controls",
            "_model_module_version": "1.5.0",
            "value": " 170499072/? [00:05&lt;00:00, 30851787.66it/s]",
            "_view_count": null,
            "_view_module_version": "1.5.0",
            "description_tooltip": null,
            "_model_module": "@jupyter-widgets/controls",
            "layout": "IPY_MODEL_9738538b94194ccca2700160d3552eee"
          }
        },
        "9610c207a6724587a0fe1e576db4c949": {
          "model_module": "@jupyter-widgets/controls",
          "model_name": "ProgressStyleModel",
          "state": {
            "_view_name": "StyleView",
            "_model_name": "ProgressStyleModel",
            "description_width": "initial",
            "_view_module": "@jupyter-widgets/base",
            "_model_module_version": "1.5.0",
            "_view_count": null,
            "_view_module_version": "1.2.0",
            "bar_color": null,
            "_model_module": "@jupyter-widgets/controls"
          }
        },
        "cda4b67108f242a3950d13c13549ebd0": {
          "model_module": "@jupyter-widgets/base",
          "model_name": "LayoutModel",
          "state": {
            "_view_name": "LayoutView",
            "grid_template_rows": null,
            "right": null,
            "justify_content": null,
            "_view_module": "@jupyter-widgets/base",
            "overflow": null,
            "_model_module_version": "1.2.0",
            "_view_count": null,
            "flex_flow": null,
            "width": null,
            "min_width": null,
            "border": null,
            "align_items": null,
            "bottom": null,
            "_model_module": "@jupyter-widgets/base",
            "top": null,
            "grid_column": null,
            "overflow_y": null,
            "overflow_x": null,
            "grid_auto_flow": null,
            "grid_area": null,
            "grid_template_columns": null,
            "flex": null,
            "_model_name": "LayoutModel",
            "justify_items": null,
            "grid_row": null,
            "max_height": null,
            "align_content": null,
            "visibility": null,
            "align_self": null,
            "height": null,
            "min_height": null,
            "padding": null,
            "grid_auto_rows": null,
            "grid_gap": null,
            "max_width": null,
            "order": null,
            "_view_module_version": "1.2.0",
            "grid_template_areas": null,
            "object_position": null,
            "object_fit": null,
            "grid_auto_columns": null,
            "margin": null,
            "display": null,
            "left": null
          }
        },
        "075a4ec438654c9f85fc84720bd4ce4a": {
          "model_module": "@jupyter-widgets/controls",
          "model_name": "DescriptionStyleModel",
          "state": {
            "_view_name": "StyleView",
            "_model_name": "DescriptionStyleModel",
            "description_width": "",
            "_view_module": "@jupyter-widgets/base",
            "_model_module_version": "1.5.0",
            "_view_count": null,
            "_view_module_version": "1.2.0",
            "_model_module": "@jupyter-widgets/controls"
          }
        },
        "9738538b94194ccca2700160d3552eee": {
          "model_module": "@jupyter-widgets/base",
          "model_name": "LayoutModel",
          "state": {
            "_view_name": "LayoutView",
            "grid_template_rows": null,
            "right": null,
            "justify_content": null,
            "_view_module": "@jupyter-widgets/base",
            "overflow": null,
            "_model_module_version": "1.2.0",
            "_view_count": null,
            "flex_flow": null,
            "width": null,
            "min_width": null,
            "border": null,
            "align_items": null,
            "bottom": null,
            "_model_module": "@jupyter-widgets/base",
            "top": null,
            "grid_column": null,
            "overflow_y": null,
            "overflow_x": null,
            "grid_auto_flow": null,
            "grid_area": null,
            "grid_template_columns": null,
            "flex": null,
            "_model_name": "LayoutModel",
            "justify_items": null,
            "grid_row": null,
            "max_height": null,
            "align_content": null,
            "visibility": null,
            "align_self": null,
            "height": null,
            "min_height": null,
            "padding": null,
            "grid_auto_rows": null,
            "grid_gap": null,
            "max_width": null,
            "order": null,
            "_view_module_version": "1.2.0",
            "grid_template_areas": null,
            "object_position": null,
            "object_fit": null,
            "grid_auto_columns": null,
            "margin": null,
            "display": null,
            "left": null
          }
        }
      }
    }
  },
  "cells": [
    {
      "cell_type": "code",
      "metadata": {
        "id": "UtnMby2Pykow"
      },
      "source": [
        "# Practising CNN using CIFAR Dataset"
      ],
      "execution_count": 2,
      "outputs": []
    },
    {
      "cell_type": "code",
      "metadata": {
        "id": "yM0t11W-yngc"
      },
      "source": [
        "import torch\n",
        "import torch.nn.functional as F\n",
        "import matplotlib.pyplot as plt\n",
        "from torchvision import datasets, transforms\n",
        "from torch import nn\n",
        "from torch import optim\n",
        "import numpy as np"
      ],
      "execution_count": 3,
      "outputs": []
    },
    {
      "cell_type": "code",
      "metadata": {
        "id": "PotPbnTjyrFy"
      },
      "source": [
        "# Defining some parameters for training and validation data:\n",
        "\n",
        "# Batch Size\n",
        "batch_size = 20\n",
        "\n",
        "# % of Validation Set\n",
        "valid_pct = 0.2"
      ],
      "execution_count": 4,
      "outputs": []
    },
    {
      "cell_type": "code",
      "metadata": {
        "colab": {
          "base_uri": "https://localhost:8080/",
          "height": 117,
          "referenced_widgets": [
            "179ed9fee5d04f68b3ee917b67fd13a2",
            "133634cfef6d4cdbb8fbadefa356138a",
            "43bd04d9ba344c29bcc4912d52497753",
            "f5816296125e4338bb568b26157ac4da",
            "9610c207a6724587a0fe1e576db4c949",
            "cda4b67108f242a3950d13c13549ebd0",
            "075a4ec438654c9f85fc84720bd4ce4a",
            "9738538b94194ccca2700160d3552eee"
          ]
        },
        "id": "LiCP_w7hyuUn",
        "outputId": "babd38cb-c4e9-4034-db4f-fefc195465b0"
      },
      "source": [
        "transforms = transforms.Compose([transforms.ToTensor()])\n",
        "\n",
        "trainset = datasets.CIFAR10('data', download=True, train=True, transform=transforms)\n",
        "testset = datasets.CIFAR10('data', download=True, train=False, transform=transforms)"
      ],
      "execution_count": 5,
      "outputs": [
        {
          "output_type": "stream",
          "text": [
            "Downloading https://www.cs.toronto.edu/~kriz/cifar-10-python.tar.gz to data/cifar-10-python.tar.gz\n"
          ],
          "name": "stdout"
        },
        {
          "output_type": "display_data",
          "data": {
            "application/vnd.jupyter.widget-view+json": {
              "model_id": "179ed9fee5d04f68b3ee917b67fd13a2",
              "version_minor": 0,
              "version_major": 2
            },
            "text/plain": [
              "HBox(children=(FloatProgress(value=0.0, max=170498071.0), HTML(value='')))"
            ]
          },
          "metadata": {
            "tags": []
          }
        },
        {
          "output_type": "stream",
          "text": [
            "\n",
            "Extracting data/cifar-10-python.tar.gz to data\n",
            "Files already downloaded and verified\n"
          ],
          "name": "stdout"
        }
      ]
    },
    {
      "cell_type": "code",
      "metadata": {
        "id": "uJOIfDAfywYH"
      },
      "source": [
        "len_trainset = len(trainset)\n",
        "indices = list(range(len_trainset))\n",
        "np.random.shuffle(indices)\n",
        "split = int(valid_pct*len_trainset)\n",
        "\n",
        "train_idx , valid_idx = indices[split:], indices[:split]"
      ],
      "execution_count": 6,
      "outputs": []
    },
    {
      "cell_type": "code",
      "metadata": {
        "id": "HbSU8Zl9yzQQ"
      },
      "source": [
        "train_sampler = torch.utils.data.SubsetRandomSampler(train_idx)\n",
        "valid_sampler = torch.utils.data.SubsetRandomSampler(valid_idx)"
      ],
      "execution_count": 7,
      "outputs": []
    },
    {
      "cell_type": "code",
      "metadata": {
        "id": "bWltaKtHy0q3"
      },
      "source": [
        "trainloader = torch.utils.data.DataLoader(trainset, batch_size=batch_size, sampler=train_sampler)\n",
        "validloader = torch.utils.data.DataLoader(trainset, batch_size=batch_size, sampler=valid_sampler)\n",
        "testloader = torch.utils.data.DataLoader(testset, batch_size = batch_size)"
      ],
      "execution_count": 8,
      "outputs": []
    },
    {
      "cell_type": "code",
      "metadata": {
        "id": "c7yw6hN6y18A"
      },
      "source": [
        "classes = ['airplane', \"automobile\", \"bird \", \"cat\", \"deer\", \"dog\", \"frog\", \"horse\", \"ship\" ,\"truck\"]"
      ],
      "execution_count": 9,
      "outputs": []
    },
    {
      "cell_type": "code",
      "metadata": {
        "id": "PLn7KRtEy3Pf"
      },
      "source": [
        "# Function to help visualizing the images\n",
        "%matplotlib inline\n",
        "\n",
        "def img_helper(img):\n",
        "    # Un-Normalizing the image\n",
        "    img = img/2 + 0.5 \n",
        "    plt.imshow(np.transpose(img, (1,2,0)))\n"
      ],
      "execution_count": 10,
      "outputs": []
    },
    {
      "cell_type": "code",
      "metadata": {
        "colab": {
          "base_uri": "https://localhost:8080/",
          "height": 268
        },
        "id": "2jnOLUa0y4d4",
        "outputId": "c6976ee1-2046-4c2e-ef83-8a8facf9eab4"
      },
      "source": [
        "images, labels = next(iter(trainloader))\n",
        "fig = plt.figure(figsize = (25,4))\n",
        "for idx in np.arange(20):\n",
        "    ax = fig.add_subplot(2, 20/2, idx+1, xticks = [], yticks = [])\n",
        "    img_helper(images[idx])\n",
        "    ax.set_title(classes[labels[idx]])"
      ],
      "execution_count": 11,
      "outputs": [
        {
          "output_type": "display_data",
          "data": {
            "image/png": "[encoded data removed]",
            "text/plain": [
              "<Figure size 1800x288 with 20 Axes>"
            ]
          },
          "metadata": {
            "tags": []
          }
        }
      ]
    },
    {
      "cell_type": "code",
      "metadata": {
        "id": "C9rqoP2wy7xn"
      },
      "source": [
        "### Defining the Network Architecture"
      ],
      "execution_count": 12,
      "outputs": []
    },
    {
      "cell_type": "code",
      "metadata": {
        "id": "eZJG7QBVzEKG"
      },
      "source": [
        "class Network(nn.Module):\n",
        "    \n",
        "    def __init__(self):\n",
        "        super().__init__()\n",
        "        \n",
        "        # Input Image is of sixe : 3*32*32\n",
        "        \n",
        "        # After first Conovultional and Pooling Layer Image size : 16*16*16 (Since X-Y dimensions get reduced by a factor of 2 and Depth is increased to 16)\n",
        "        self.conv1 = nn.Conv2d(3, 16, 3,  padding=1)\n",
        "        # After Second C&P Layers : 64*8*8\n",
        "        self.conv2 = nn.Conv2d(16, 64, 3, padding=1)\n",
        "        # After Third C&P Layers : 256*4*4\n",
        "        self.conv3 = nn.Conv2d(64, 256, 3, padding=1)\n",
        "        \n",
        "        \n",
        "        self.fc1 = nn.Linear(256*4*4, 1000)\n",
        "        self.fc2 = nn.Linear(1000, 10)\n",
        "        \n",
        "        self.pool = nn.MaxPool2d(2, 2)\n",
        "        \n",
        "        self.dropout = nn.Dropout( p = 0.2)\n",
        "        \n",
        "    def forward(self, x):\n",
        "        \n",
        "        x = self.pool(F.relu(self.conv1(x)))\n",
        "        x = self.pool(F.relu(self.conv2(x)))\n",
        "        x = self.pool(F.relu(self.conv3(x)))\n",
        "    \n",
        "        # Compressing the Image into a vector so that it can be passed to the Linear Fully Connected Layers\n",
        "        x = x.view(-1, 256*4*4)\n",
        "        x = self.dropout(x)\n",
        "        x = self.dropout(F.relu(self.fc1(x)))\n",
        "        \n",
        "        x = (self.fc2(x))\n",
        "        \n",
        "        return x"
      ],
      "execution_count": 13,
      "outputs": []
    },
    {
      "cell_type": "code",
      "metadata": {
        "colab": {
          "base_uri": "https://localhost:8080/"
        },
        "id": "jyffyWZDzFjP",
        "outputId": "341e006a-2564-4083-961b-080a66fa6249"
      },
      "source": [
        "model = Network()\n",
        "model"
      ],
      "execution_count": 14,
      "outputs": [
        {
          "output_type": "execute_result",
          "data": {
            "text/plain": [
              "Network(\n",
              "  (conv1): Conv2d(3, 16, kernel_size=(3, 3), stride=(1, 1), padding=(1, 1))\n",
              "  (conv2): Conv2d(16, 64, kernel_size=(3, 3), stride=(1, 1), padding=(1, 1))\n",
              "  (conv3): Conv2d(64, 256, kernel_size=(3, 3), stride=(1, 1), padding=(1, 1))\n",
              "  (fc1): Linear(in_features=4096, out_features=1000, bias=True)\n",
              "  (fc2): Linear(in_features=1000, out_features=10, bias=True)\n",
              "  (pool): MaxPool2d(kernel_size=2, stride=2, padding=0, dilation=1, ceil_mode=False)\n",
              "  (dropout): Dropout(p=0.2, inplace=False)\n",
              ")"
            ]
          },
          "metadata": {
            "tags": []
          },
          "execution_count": 14
        }
      ]
    },
    {
      "cell_type": "code",
      "metadata": {
        "id": "q8NXTIMPzG4_"
      },
      "source": [
        "### Training the Model"
      ],
      "execution_count": 15,
      "outputs": []
    },
    {
      "cell_type": "code",
      "metadata": {
        "id": "7xjjg5s0zKn_"
      },
      "source": [
        "criterion = nn.CrossEntropyLoss()\n",
        "optimizer = optim.SGD(model.parameters(), lr = 0.01)"
      ],
      "execution_count": 16,
      "outputs": []
    },
    {
      "cell_type": "code",
      "metadata": {
        "colab": {
          "base_uri": "https://localhost:8080/"
        },
        "id": "9RVb-hhhzMBX",
        "outputId": "c858f7d7-f3a7-4949-9ee2-4c011accc669"
      },
      "source": [
        "epochs = 30\n",
        "\n",
        "\n",
        "valid_loss_min = float(\"inf\")\n",
        "    \n",
        "for iterations in range(epochs):\n",
        "\n",
        "    train_loss = 0\n",
        "    validation_loss = 0\n",
        "    \n",
        "    \n",
        "    # Training the model\n",
        "    model.train()\n",
        "    for images, labels in trainloader:\n",
        "\n",
        "        optimizer.zero_grad()\n",
        "        \n",
        "        preds = model(images)\n",
        "        \n",
        "        loss = criterion(preds, labels)\n",
        "        loss.backward()\n",
        "        optimizer.step()\n",
        "        \n",
        "        train_loss += loss.item()*images.size(0)\n",
        "        \n",
        "        \n",
        "    \n",
        "    # Validating the model\n",
        "    model.eval()\n",
        "    for images_v, labels_v in validloader:\n",
        "            \n",
        "        preds_v = (model.forward(images_v))\n",
        "        loss = criterion(preds_v, labels_v)\n",
        "        validation_loss += loss.item() * images_v.size(0)\n",
        "    \n",
        "    # Average Loss:\n",
        "    train_loss = train_loss/ len(trainloader.sampler)\n",
        "    validation_loss = validation_loss/ len(validloader.sampler)\n",
        "\n",
        "\n",
        "    print('Epoch: {} \\tTraining Loss: {:.6f} \\tValidation Loss: {:.6f}'.format(\n",
        "        iterations, train_loss, validation_loss))\n",
        "        \n",
        "    # Saving the model if Validation Loss has decreased\n",
        "    \n",
        "    if validation_loss < valid_loss_min:\n",
        "        print('Validation loss decreased ({:.6f} --> {:.6f}).  Saving model ...'.format(\n",
        "        valid_loss_min,\n",
        "        validation_loss))\n",
        "        torch.save(model.state_dict(), \"cnn_CIFAR.pt\")\n",
        "        valid_loss_min = validation_loss\n",
        "        print(\"\\n\")            \n",
        "        \n",
        "        \n",
        "        "
      ],
      "execution_count": 17,
      "outputs": [
        {
          "output_type": "stream",
          "text": [
            "Epoch: 0 \tTraining Loss: 2.151229 \tValidation Loss: 1.957538\n",
            "Validation loss decreased (inf --> 1.957538).  Saving model ...\n",
            "\n",
            "\n",
            "Epoch: 1 \tTraining Loss: 1.766315 \tValidation Loss: 1.627915\n",
            "Validation loss decreased (1.957538 --> 1.627915).  Saving model ...\n",
            "\n",
            "\n",
            "Epoch: 2 \tTraining Loss: 1.531364 \tValidation Loss: 1.424104\n",
            "Validation loss decreased (1.627915 --> 1.424104).  Saving model ...\n",
            "\n",
            "\n",
            "Epoch: 3 \tTraining Loss: 1.396040 \tValidation Loss: 1.312232\n",
            "Validation loss decreased (1.424104 --> 1.312232).  Saving model ...\n",
            "\n",
            "\n",
            "Epoch: 4 \tTraining Loss: 1.278107 \tValidation Loss: 1.219820\n",
            "Validation loss decreased (1.312232 --> 1.219820).  Saving model ...\n",
            "\n",
            "\n",
            "Epoch: 5 \tTraining Loss: 1.168382 \tValidation Loss: 1.168573\n",
            "Validation loss decreased (1.219820 --> 1.168573).  Saving model ...\n",
            "\n",
            "\n",
            "Epoch: 6 \tTraining Loss: 1.071061 \tValidation Loss: 1.016854\n",
            "Validation loss decreased (1.168573 --> 1.016854).  Saving model ...\n",
            "\n",
            "\n",
            "Epoch: 7 \tTraining Loss: 0.986345 \tValidation Loss: 0.969841\n",
            "Validation loss decreased (1.016854 --> 0.969841).  Saving model ...\n",
            "\n",
            "\n",
            "Epoch: 8 \tTraining Loss: 0.916887 \tValidation Loss: 0.918913\n",
            "Validation loss decreased (0.969841 --> 0.918913).  Saving model ...\n",
            "\n",
            "\n",
            "Epoch: 9 \tTraining Loss: 0.850704 \tValidation Loss: 0.923671\n",
            "Epoch: 10 \tTraining Loss: 0.792114 \tValidation Loss: 0.842291\n",
            "Validation loss decreased (0.918913 --> 0.842291).  Saving model ...\n",
            "\n",
            "\n",
            "Epoch: 11 \tTraining Loss: 0.732741 \tValidation Loss: 0.832178\n",
            "Validation loss decreased (0.842291 --> 0.832178).  Saving model ...\n",
            "\n",
            "\n",
            "Epoch: 12 \tTraining Loss: 0.676280 \tValidation Loss: 0.818132\n",
            "Validation loss decreased (0.832178 --> 0.818132).  Saving model ...\n",
            "\n",
            "\n",
            "Epoch: 13 \tTraining Loss: 0.619448 \tValidation Loss: 0.795427\n",
            "Validation loss decreased (0.818132 --> 0.795427).  Saving model ...\n",
            "\n",
            "\n",
            "Epoch: 14 \tTraining Loss: 0.567390 \tValidation Loss: 0.799628\n",
            "Epoch: 15 \tTraining Loss: 0.509135 \tValidation Loss: 0.799697\n",
            "Epoch: 16 \tTraining Loss: 0.460250 \tValidation Loss: 0.774251\n",
            "Validation loss decreased (0.795427 --> 0.774251).  Saving model ...\n",
            "\n",
            "\n",
            "Epoch: 17 \tTraining Loss: 0.412817 \tValidation Loss: 0.761728\n",
            "Validation loss decreased (0.774251 --> 0.761728).  Saving model ...\n",
            "\n",
            "\n",
            "Epoch: 18 \tTraining Loss: 0.362656 \tValidation Loss: 0.793609\n",
            "Epoch: 19 \tTraining Loss: 0.318000 \tValidation Loss: 0.832494\n",
            "Epoch: 20 \tTraining Loss: 0.276420 \tValidation Loss: 0.806189\n",
            "Epoch: 21 \tTraining Loss: 0.239609 \tValidation Loss: 0.825057\n",
            "Epoch: 22 \tTraining Loss: 0.204388 \tValidation Loss: 0.860981\n",
            "Epoch: 23 \tTraining Loss: 0.181237 \tValidation Loss: 0.896179\n",
            "Epoch: 24 \tTraining Loss: 0.152370 \tValidation Loss: 0.901315\n",
            "Epoch: 25 \tTraining Loss: 0.137462 \tValidation Loss: 0.909155\n",
            "Epoch: 26 \tTraining Loss: 0.117832 \tValidation Loss: 0.997496\n",
            "Epoch: 27 \tTraining Loss: 0.102821 \tValidation Loss: 0.973340\n",
            "Epoch: 28 \tTraining Loss: 0.091475 \tValidation Loss: 0.974043\n",
            "Epoch: 29 \tTraining Loss: 0.088948 \tValidation Loss: 0.984962\n"
          ],
          "name": "stdout"
        }
      ]
    },
    {
      "cell_type": "code",
      "metadata": {
        "colab": {
          "base_uri": "https://localhost:8080/"
        },
        "id": "i_YFWmUFzPRe",
        "outputId": "06c8b6c2-5cdb-414d-9e32-b37ffbe1c9a6"
      },
      "source": [
        "model.load_state_dict(torch.load('cnn_CIFAR.pt'))"
      ],
      "execution_count": 19,
      "outputs": [
        {
          "output_type": "execute_result",
          "data": {
            "text/plain": [
              "<All keys matched successfully>"
            ]
          },
          "metadata": {
            "tags": []
          },
          "execution_count": 19
        }
      ]
    },
    {
      "cell_type": "code",
      "metadata": {
        "colab": {
          "base_uri": "https://localhost:8080/"
        },
        "id": "c9FeiZfG3WSC",
        "outputId": "2e363927-17fb-48d1-9762-b6164cec256b"
      },
      "source": [
        "# track test loss\n",
        "test_loss = 0.0\n",
        "class_correct = list(0. for i in range(10))\n",
        "class_total = list(0. for i in range(10))\n",
        "\n",
        "model.eval()\n",
        "# iterate over test data\n",
        "for data, target in testloader:\n",
        "    # move tensors to GPU if CUDA is available\n",
        "\n",
        "    # forward pass: compute predicted outputs by passing inputs to the model\n",
        "    output = model(data)\n",
        "    # calculate the batch loss\n",
        "    loss = criterion(output, target)\n",
        "    # update test loss \n",
        "    test_loss += loss.item()*data.size(0)\n",
        "    # convert output probabilities to predicted class\n",
        "    _, pred = torch.max(output, 1)    \n",
        "    # compare predictions to true label\n",
        "    correct_tensor = pred.eq(target.data.view_as(pred))\n",
        "    correct = np.squeeze(correct_tensor.numpy())\n",
        "    # calculate test accuracy for each object class\n",
        "    for i in range(batch_size):\n",
        "        label = target.data[i]\n",
        "        class_correct[label] += correct[i].item()\n",
        "        class_total[label] += 1\n",
        "\n",
        "# average test loss\n",
        "test_loss = test_loss/len(testloader.dataset)\n",
        "print('Test Loss: {:.6f}\\n'.format(test_loss))\n",
        "\n",
        "for i in range(10):\n",
        "    if class_total[i] > 0:\n",
        "        print('Test Accuracy of %5s: %2d%% (%2d/%2d)' % (\n",
        "            classes[i], 100 * class_correct[i] / class_total[i],\n",
        "            np.sum(class_correct[i]), np.sum(class_total[i])))\n",
        "    else:\n",
        "        print('Test Accuracy of %5s: N/A (no training examples)' % (classes[i]))\n",
        "\n",
        "print('\\nTest Accuracy (Overall): %2d%% (%2d/%2d)' % (\n",
        "    100. * np.sum(class_correct) / np.sum(class_total),\n",
        "    np.sum(class_correct), np.sum(class_total)))"
      ],
      "execution_count": 23,
      "outputs": [
        {
          "output_type": "stream",
          "text": [
            "Test Loss: 0.774197\n",
            "\n",
            "Test Accuracy of airplane: 81% (816/1000)\n",
            "Test Accuracy of automobile: 83% (833/1000)\n",
            "Test Accuracy of bird : 62% (627/1000)\n",
            "Test Accuracy of   cat: 53% (530/1000)\n",
            "Test Accuracy of  deer: 66% (668/1000)\n",
            "Test Accuracy of   dog: 66% (660/1000)\n",
            "Test Accuracy of  frog: 78% (788/1000)\n",
            "Test Accuracy of horse: 87% (874/1000)\n",
            "Test Accuracy of  ship: 85% (856/1000)\n",
            "Test Accuracy of truck: 77% (778/1000)\n",
            "\n",
            "Test Accuracy (Overall): 74% (7430/10000)\n"
          ],
          "name": "stdout"
        }
      ]
    },
    {
      "cell_type": "code",
      "metadata": {
        "id": "iDNrRqCkHLdG"
      },
      "source": [
        ""
      ],
      "execution_count": null,
      "outputs": []
    }
  ]
}