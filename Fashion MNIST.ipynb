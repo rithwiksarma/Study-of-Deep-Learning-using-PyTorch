{
 "cells": [
  {
   "cell_type": "code",
   "execution_count": 1,
   "metadata": {},
   "outputs": [
    {
     "name": "stderr",
     "output_type": "stream",
     "text": [
      "\n",
      "Bad key \"text.kerning_factor\" on line 4 in\n",
      "C:\\Users\\rithw\\Anaconda3\\lib\\site-packages\\matplotlib\\mpl-data\\stylelib\\_classic_test_patch.mplstyle.\n",
      "You probably need to get an updated matplotlibrc file from\n",
      "https://github.com/matplotlib/matplotlib/blob/v3.1.3/matplotlibrc.template\n",
      "or from the matplotlib source distribution\n"
     ]
    }
   ],
   "source": [
    "import numpy as np\n",
    "import matplotlib.pyplot as plt\n",
    "import torch\n",
    "from torch import nn\n",
    "from torchvision import datasets, transforms\n",
    "import torch.nn.functional as F\n",
    "from torch import optim"
   ]
  },
  {
   "cell_type": "markdown",
   "metadata": {},
   "source": [
    "### Helper function for viewing an image and predicting it's class"
   ]
  },
  {
   "cell_type": "code",
   "execution_count": 2,
   "metadata": {},
   "outputs": [],
   "source": [
    "def view_classify(img, ps, version=\"MNIST\"):\n",
    "    ''' Function for viewing an image and it's predicted classes.\n",
    "    '''\n",
    "    ps = ps.data.numpy().squeeze()\n",
    "\n",
    "    fig, (ax1, ax2) = plt.subplots(figsize=(6,9), ncols=2)\n",
    "    ax1.imshow(img.resize_(1, 28, 28).numpy().squeeze())\n",
    "    ax1.axis('off')\n",
    "    ax2.barh(np.arange(10), ps)\n",
    "    ax2.set_aspect(0.1)\n",
    "    ax2.set_yticks(np.arange(10))\n",
    "    if version == \"MNIST\":\n",
    "        ax2.set_yticklabels(np.arange(10))\n",
    "    elif version == \"Fashion\":\n",
    "        ax2.set_yticklabels(['T-shirt/top',\n",
    "                            'Trouser',\n",
    "                            'Pullover',\n",
    "                            'Dress',\n",
    "                            'Coat',\n",
    "                            'Sandal',\n",
    "                            'Shirt',\n",
    "                            'Sneaker',\n",
    "                            'Bag',\n",
    "                            'Ankle Boot'], size='small');\n",
    "    ax2.set_title('Class Probability')\n",
    "    ax2.set_xlim(0, 1.1)\n",
    "\n",
    "    plt.tight_layout()"
   ]
  },
  {
   "cell_type": "markdown",
   "metadata": {},
   "source": [
    "## 1. Importing the dataset"
   ]
  },
  {
   "cell_type": "code",
   "execution_count": 3,
   "metadata": {},
   "outputs": [],
   "source": [
    "transforms_applied = transforms.Compose([transforms.ToTensor()])\n",
    "\n",
    "trainset = datasets.FashionMNIST(\"./data\", train = True, transform = transforms_applied, download = True )\n",
    "trainloader = torch.utils.data.DataLoader(trainset, batch_size = 64, shuffle = True )\n",
    "\n",
    "testset = datasets.FashionMNIST(\"./data\", train = False, transform = transforms_applied, download = True)\n",
    "testloader = torch.utils.data.DataLoader(testset, batch_size = 64, shuffle = True)"
   ]
  },
  {
   "cell_type": "code",
   "execution_count": 4,
   "metadata": {},
   "outputs": [],
   "source": [
    "images, labels = next(iter(trainloader))"
   ]
  },
  {
   "cell_type": "code",
   "execution_count": 5,
   "metadata": {},
   "outputs": [
    {
     "data": {
      "text/plain": [
       "tensor([3, 6, 0, 7, 5, 5, 4, 3, 4, 3, 9, 2, 3, 7, 7, 0, 6, 3, 7, 8, 2, 7, 9, 6,\n",
       "        4, 4, 5, 2, 7, 8, 4, 9, 9, 9, 7, 7, 6, 9, 9, 8, 4, 8, 0, 5, 7, 5, 5, 9,\n",
       "        3, 3, 4, 4, 0, 5, 3, 7, 9, 7, 6, 8, 3, 8, 8, 4])"
      ]
     },
     "execution_count": 5,
     "metadata": {},
     "output_type": "execute_result"
    }
   ],
   "source": [
    "# Sample Input Image\n",
    "labels"
   ]
  },
  {
   "cell_type": "code",
   "execution_count": 6,
   "metadata": {},
   "outputs": [
    {
     "data": {
      "image/png": "[encoded data removed]",
      "text/plain": [
       "<Figure size 432x288 with 1 Axes>"
      ]
     },
     "metadata": {
      "needs_background": "light"
     },
     "output_type": "display_data"
    }
   ],
   "source": [
    "plt.imshow(images[0].view(28,28));"
   ]
  },
  {
   "cell_type": "markdown",
   "metadata": {},
   "source": [
    "## 2. Defining the architecture of the model"
   ]
  },
  {
   "cell_type": "code",
   "execution_count": 7,
   "metadata": {},
   "outputs": [],
   "source": [
    "n_input = 784\n",
    "n_hidden = [256,128,64]\n",
    "n_output = 10"
   ]
  },
  {
   "cell_type": "code",
   "execution_count": 8,
   "metadata": {},
   "outputs": [],
   "source": [
    "class Network(nn.Module):\n",
    "    \n",
    "    def __init__(self):\n",
    "        super().__init__()\n",
    "        \n",
    "        self.fc1 = nn.Linear(n_input, n_hidden[0])\n",
    "        self.fc2 = nn.Linear(n_hidden[0], n_hidden[1])\n",
    "        self.fc3 = nn.Linear(n_hidden[1], n_hidden[2])\n",
    "        self.output = nn.Linear(n_hidden[2], n_output)\n",
    "    \n",
    "    def forward(self, x):\n",
    "        x = F.relu(self.fc1(x))\n",
    "        x = F.relu(self.fc2(x))\n",
    "        x = F.relu(self.fc3(x))\n",
    "        x = F.log_softmax(self.output(x), dim = 1)\n",
    "        \n",
    "        return x"
   ]
  },
  {
   "cell_type": "code",
   "execution_count": 9,
   "metadata": {},
   "outputs": [],
   "source": [
    "model = Network()"
   ]
  },
  {
   "cell_type": "markdown",
   "metadata": {},
   "source": [
    "## 3. Defining the Criterion and Optimizer "
   ]
  },
  {
   "cell_type": "code",
   "execution_count": 10,
   "metadata": {},
   "outputs": [],
   "source": [
    "criterion = nn.NLLLoss()\n",
    "\n",
    "optimizer = optim.SGD(model.parameters(), lr = 0.01)"
   ]
  },
  {
   "cell_type": "markdown",
   "metadata": {},
   "source": [
    "## 4. Training the Neural Network"
   ]
  },
  {
   "cell_type": "code",
   "execution_count": 11,
   "metadata": {},
   "outputs": [
    {
     "name": "stdout",
     "output_type": "stream",
     "text": [
      "Epoch : 1/10... Training Loss : 1.817.. Test Loss : 1.050.. Test Accuracy: 0.568\n",
      "Epoch : 2/10... Training Loss : 0.840.. Test Loss : 0.744.. Test Accuracy: 0.714\n",
      "Epoch : 3/10... Training Loss : 0.674.. Test Loss : 0.664.. Test Accuracy: 0.761\n",
      "Epoch : 4/10... Training Loss : 0.602.. Test Loss : 0.602.. Test Accuracy: 0.788\n",
      "Epoch : 5/10... Training Loss : 0.554.. Test Loss : 0.570.. Test Accuracy: 0.794\n",
      "Epoch : 6/10... Training Loss : 0.519.. Test Loss : 0.543.. Test Accuracy: 0.803\n",
      "Epoch : 7/10... Training Loss : 0.491.. Test Loss : 0.531.. Test Accuracy: 0.807\n",
      "Epoch : 8/10... Training Loss : 0.471.. Test Loss : 0.499.. Test Accuracy: 0.821\n",
      "Epoch : 9/10... Training Loss : 0.452.. Test Loss : 0.469.. Test Accuracy: 0.833\n",
      "Epoch : 10/10... Training Loss : 0.438.. Test Loss : 0.474.. Test Accuracy: 0.832\n"
     ]
    }
   ],
   "source": [
    "epochs = 10 \n",
    "\n",
    "for iterations in range(epochs):\n",
    "    \n",
    "    running_loss = 0\n",
    "    train_loss_array = []\n",
    "    test_loss_array = []\n",
    "    \n",
    "    for images, labels in iter(trainloader):\n",
    "        \n",
    "        optimizer.zero_grad()\n",
    "        \n",
    "        images = images.view(images.shape[0], -1)\n",
    "        \n",
    "        predictions = model.forward(images)\n",
    "        \n",
    "        loss = criterion(predictions, labels)\n",
    "\n",
    "        running_loss += loss\n",
    "        \n",
    "        loss.backward()\n",
    "        \n",
    "        optimizer.step()\n",
    "        \n",
    "    else:\n",
    "        test_loss = 0\n",
    "        accuracy = 0\n",
    "        \n",
    "        with torch.no_grad():\n",
    "            for images_test, labels_test in iter(testloader):\n",
    "\n",
    "                images_test = images_test.view(images_test.shape[0], -1)\n",
    "\n",
    "                log_predictions = model.forward(images_test)\n",
    "\n",
    "                loss_testing = criterion(log_predictions, labels_test)\n",
    "\n",
    "                test_loss += loss_testing\n",
    "\n",
    "                predictions = torch.exp(log_predictions)\n",
    "\n",
    "\n",
    "                top_p, top_class = predictions.topk(1, dim = 1)\n",
    "                equals = top_class == labels_test.view(*top_class.shape)\n",
    "                accuracy += torch.mean(equals.type(torch.FloatTensor))\n",
    "        \n",
    "        train_loss_array.append(running_loss/len(trainloader))\n",
    "        test_loss_array.append(test_loss/len(testloader))\n",
    "        \n",
    "        print(\"Epoch : {}/{}...\" .format(iterations+1, epochs),\n",
    "             \"Training Loss : {:.3f}..\" .format(running_loss/len(trainloader)),\n",
    "             \"Test Loss : {:.3f}..\" .format(test_loss/len(testloader)),\n",
    "             \"Test Accuracy: {:.3f}\" .format(accuracy/len(testloader)))\n",
    "        \n"
   ]
  },
  {
   "cell_type": "markdown",
   "metadata": {},
   "source": [
    "## 5. Testing the model"
   ]
  },
  {
   "cell_type": "code",
   "execution_count": 12,
   "metadata": {},
   "outputs": [
    {
     "name": "stderr",
     "output_type": "stream",
     "text": [
      "C:\\Users\\rithw\\Anaconda3\\lib\\site-packages\\ipykernel_launcher.py:9: UserWarning: Implicit dimension choice for softmax has been deprecated. Change the call to include dim=X as an argument.\n",
      "  if __name__ == '__main__':\n"
     ]
    },
    {
     "data": {
      "image/png": "[encoded data removed]",
      "text/plain": [
       "<Figure size 432x648 with 2 Axes>"
      ]
     },
     "metadata": {
      "needs_background": "light"
     },
     "output_type": "display_data"
    }
   ],
   "source": [
    "%matplotlib inline\n",
    "\n",
    "images, labels = next(iter(trainloader))\n",
    "test_img = images[0].view(1,784)\n",
    "\n",
    "pred = model.forward(test_img)\n",
    "\n",
    "# pred contains Logits, need to take softmax to get probabilities\n",
    "final_pred = F.softmax(pred)\n",
    "\n",
    "view_classify(test_img.view(1,28,28), final_pred, version = \"Fashion\")"
   ]
  },
  {
   "cell_type": "code",
   "execution_count": null,
   "metadata": {},
   "outputs": [],
   "source": []
  }
 ],
 "metadata": {
  "kernelspec": {
   "display_name": "Python 3",
   "language": "python",
   "name": "python3"
  },
  "language_info": {
   "codemirror_mode": {
    "name": "ipython",
    "version": 3
   },
   "file_extension": ".py",
   "mimetype": "text/x-python",
   "name": "python",
   "nbconvert_exporter": "python",
   "pygments_lexer": "ipython3",
   "version": "3.7.7"
  }
 },
 "nbformat": 4,
 "nbformat_minor": 4
}
