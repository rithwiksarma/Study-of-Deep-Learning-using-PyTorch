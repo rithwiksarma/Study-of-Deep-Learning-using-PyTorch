{
 "cells": [
  {
   "cell_type": "code",
   "execution_count": 1,
   "metadata": {},
   "outputs": [
    {
     "name": "stderr",
     "output_type": "stream",
     "text": [
      "\n",
      "Bad key \"text.kerning_factor\" on line 4 in\n",
      "C:\\Users\\rithw\\Anaconda3\\lib\\site-packages\\matplotlib\\mpl-data\\stylelib\\_classic_test_patch.mplstyle.\n",
      "You probably need to get an updated matplotlibrc file from\n",
      "https://github.com/matplotlib/matplotlib/blob/v3.1.3/matplotlibrc.template\n",
      "or from the matplotlib source distribution\n"
     ]
    }
   ],
   "source": [
    "import numpy as np\n",
    "import matplotlib.pyplot as plt\n",
    "import torch\n",
    "from torch import nn\n",
    "from torchvision import datasets, transforms\n",
    "import torch.nn.functional as F\n",
    "from torch import optim"
   ]
  },
  {
   "cell_type": "markdown",
   "metadata": {},
   "source": [
    "### Helper function for viewing an image and predicting it's class"
   ]
  },
  {
   "cell_type": "code",
   "execution_count": 2,
   "metadata": {},
   "outputs": [],
   "source": [
    "def view_classify(img, ps, version=\"MNIST\"):\n",
    "    ''' Function for viewing an image and it's predicted classes.\n",
    "    '''\n",
    "    ps = ps.data.numpy().squeeze()\n",
    "\n",
    "    fig, (ax1, ax2) = plt.subplots(figsize=(6,9), ncols=2)\n",
    "    ax1.imshow(img.resize_(1, 28, 28).numpy().squeeze())\n",
    "    ax1.axis('off')\n",
    "    ax2.barh(np.arange(10), ps)\n",
    "    ax2.set_aspect(0.1)\n",
    "    ax2.set_yticks(np.arange(10))\n",
    "    if version == \"MNIST\":\n",
    "        ax2.set_yticklabels(np.arange(10))\n",
    "    elif version == \"Fashion\":\n",
    "        ax2.set_yticklabels(['T-shirt/top',\n",
    "                            'Trouser',\n",
    "                            'Pullover',\n",
    "                            'Dress',\n",
    "                            'Coat',\n",
    "                            'Sandal',\n",
    "                            'Shirt',\n",
    "                            'Sneaker',\n",
    "                            'Bag',\n",
    "                            'Ankle Boot'], size='small');\n",
    "    ax2.set_title('Class Probability')\n",
    "    ax2.set_xlim(0, 1.1)\n",
    "\n",
    "    plt.tight_layout()"
   ]
  },
  {
   "cell_type": "markdown",
   "metadata": {},
   "source": [
    "## 1. Importing the dataset"
   ]
  },
  {
   "cell_type": "code",
   "execution_count": 3,
   "metadata": {},
   "outputs": [],
   "source": [
    "transforms_applied = transforms.Compose([transforms.ToTensor()])\n",
    "\n",
    "trainset = datasets.FashionMNIST(\"./data\", train = True, transform = transforms_applied, download = True )\n",
    "trainloader = torch.utils.data.DataLoader(trainset, batch_size = 64, shuffle = True )\n",
    "\n",
    "testset = datasets.FashionMNIST(\"./data\", train = False, transform = transforms_applied, download = True)\n",
    "testloader = torch.utils.data.DataLoader(testset, batch_size = 64, shuffle = True)"
   ]
  },
  {
   "cell_type": "code",
   "execution_count": 4,
   "metadata": {},
   "outputs": [],
   "source": [
    "images, labels = next(iter(trainloader))"
   ]
  },
  {
   "cell_type": "code",
   "execution_count": 5,
   "metadata": {},
   "outputs": [
    {
     "data": {
      "text/plain": [
       "tensor([4, 6, 0, 6, 8, 5, 5, 3, 6, 8, 8, 8, 5, 9, 8, 7, 8, 2, 4, 6, 3, 4, 8, 4,\n",
       "        3, 3, 9, 8, 9, 7, 8, 9, 1, 0, 2, 3, 9, 3, 3, 0, 6, 2, 0, 4, 1, 8, 5, 6,\n",
       "        6, 1, 4, 3, 2, 0, 6, 4, 3, 0, 6, 2, 4, 2, 2, 1])"
      ]
     },
     "execution_count": 5,
     "metadata": {},
     "output_type": "execute_result"
    }
   ],
   "source": [
    "# Sample Input Image\n",
    "labels"
   ]
  },
  {
   "cell_type": "code",
   "execution_count": 6,
   "metadata": {},
   "outputs": [
    {
     "data": {
      "image/png": "[encoded data removed]",
      "text/plain": [
       "<Figure size 432x288 with 1 Axes>"
      ]
     },
     "metadata": {
      "needs_background": "light"
     },
     "output_type": "display_data"
    }
   ],
   "source": [
    "plt.imshow(images[0].view(28,28));"
   ]
  },
  {
   "cell_type": "markdown",
   "metadata": {},
   "source": [
    "## 2. Defining the architecture of the model"
   ]
  },
  {
   "cell_type": "code",
   "execution_count": 7,
   "metadata": {},
   "outputs": [],
   "source": [
    "n_input = 784\n",
    "n_hidden = [256,128,64]\n",
    "n_output = 10"
   ]
  },
  {
   "cell_type": "code",
   "execution_count": 8,
   "metadata": {},
   "outputs": [],
   "source": [
    "class Network(nn.Module):\n",
    "    \n",
    "    def __init__(self):\n",
    "        super().__init__()\n",
    "        \n",
    "        self.fc1 = nn.Linear(n_input, n_hidden[0])\n",
    "        self.fc2 = nn.Linear(n_hidden[0], n_hidden[1])\n",
    "        self.fc3 = nn.Linear(n_hidden[1], n_hidden[2])\n",
    "        self.output = nn.Linear(n_hidden[2], n_output)\n",
    "        \n",
    "        # Adding Dropout to prveent Overfitting\n",
    "        self.dropout = nn.Dropout(p=0.2)\n",
    "    \n",
    "    def forward(self, x):\n",
    "        x = self.dropout(F.relu(self.fc1(x)))\n",
    "        x = self.dropout(F.relu(self.fc2(x)))\n",
    "        x = self.dropout(F.relu(self.fc3(x)))\n",
    "        \n",
    "        # Output layer hence we won't be adding dropout\n",
    "        x = F.log_softmax(self.output(x), dim = 1)\n",
    "        \n",
    "        return x"
   ]
  },
  {
   "cell_type": "code",
   "execution_count": 9,
   "metadata": {},
   "outputs": [],
   "source": [
    "model = Network()"
   ]
  },
  {
   "cell_type": "markdown",
   "metadata": {},
   "source": [
    "## 3. Defining the Criterion and Optimizer "
   ]
  },
  {
   "cell_type": "code",
   "execution_count": 10,
   "metadata": {},
   "outputs": [],
   "source": [
    "criterion = nn.NLLLoss()\n",
    "\n",
    "optimizer = optim.SGD(model.parameters(), lr = 0.01)"
   ]
  },
  {
   "cell_type": "markdown",
   "metadata": {},
   "source": [
    "## 4. Training the Neural Network"
   ]
  },
  {
   "cell_type": "code",
   "execution_count": 11,
   "metadata": {},
   "outputs": [
    {
     "name": "stdout",
     "output_type": "stream",
     "text": [
      "Epoch : 1/30... Training Loss : 1.929.. Test Loss : 1.214.. Test Accuracy: 0.553\n",
      "Epoch : 2/30... Training Loss : 1.063.. Test Loss : 0.830.. Test Accuracy: 0.674\n",
      "Epoch : 3/30... Training Loss : 0.836.. Test Loss : 0.707.. Test Accuracy: 0.739\n",
      "Epoch : 4/30... Training Loss : 0.735.. Test Loss : 0.644.. Test Accuracy: 0.767\n",
      "Epoch : 5/30... Training Loss : 0.671.. Test Loss : 0.589.. Test Accuracy: 0.792\n",
      "Epoch : 6/30... Training Loss : 0.621.. Test Loss : 0.552.. Test Accuracy: 0.806\n",
      "Epoch : 7/30... Training Loss : 0.584.. Test Loss : 0.521.. Test Accuracy: 0.817\n",
      "Epoch : 8/30... Training Loss : 0.554.. Test Loss : 0.508.. Test Accuracy: 0.821\n",
      "Epoch : 9/30... Training Loss : 0.528.. Test Loss : 0.485.. Test Accuracy: 0.827\n",
      "Epoch : 10/30... Training Loss : 0.507.. Test Loss : 0.466.. Test Accuracy: 0.834\n",
      "Epoch : 11/30... Training Loss : 0.489.. Test Loss : 0.467.. Test Accuracy: 0.831\n",
      "Epoch : 12/30... Training Loss : 0.474.. Test Loss : 0.446.. Test Accuracy: 0.841\n",
      "Epoch : 13/30... Training Loss : 0.458.. Test Loss : 0.442.. Test Accuracy: 0.842\n",
      "Epoch : 14/30... Training Loss : 0.445.. Test Loss : 0.427.. Test Accuracy: 0.845\n",
      "Epoch : 15/30... Training Loss : 0.435.. Test Loss : 0.422.. Test Accuracy: 0.847\n",
      "Epoch : 16/30... Training Loss : 0.425.. Test Loss : 0.415.. Test Accuracy: 0.851\n",
      "Epoch : 17/30... Training Loss : 0.415.. Test Loss : 0.403.. Test Accuracy: 0.854\n",
      "Epoch : 18/30... Training Loss : 0.409.. Test Loss : 0.397.. Test Accuracy: 0.858\n",
      "Epoch : 19/30... Training Loss : 0.401.. Test Loss : 0.397.. Test Accuracy: 0.856\n",
      "Epoch : 20/30... Training Loss : 0.394.. Test Loss : 0.392.. Test Accuracy: 0.855\n",
      "Epoch : 21/30... Training Loss : 0.387.. Test Loss : 0.382.. Test Accuracy: 0.863\n",
      "Epoch : 22/30... Training Loss : 0.381.. Test Loss : 0.380.. Test Accuracy: 0.862\n",
      "Epoch : 23/30... Training Loss : 0.374.. Test Loss : 0.374.. Test Accuracy: 0.867\n",
      "Epoch : 24/30... Training Loss : 0.368.. Test Loss : 0.371.. Test Accuracy: 0.867\n",
      "Epoch : 25/30... Training Loss : 0.363.. Test Loss : 0.367.. Test Accuracy: 0.870\n",
      "Epoch : 26/30... Training Loss : 0.360.. Test Loss : 0.368.. Test Accuracy: 0.866\n",
      "Epoch : 27/30... Training Loss : 0.356.. Test Loss : 0.370.. Test Accuracy: 0.869\n",
      "Epoch : 28/30... Training Loss : 0.349.. Test Loss : 0.368.. Test Accuracy: 0.869\n",
      "Epoch : 29/30... Training Loss : 0.344.. Test Loss : 0.369.. Test Accuracy: 0.867\n",
      "Epoch : 30/30... Training Loss : 0.339.. Test Loss : 0.357.. Test Accuracy: 0.872\n"
     ]
    }
   ],
   "source": [
    "epochs = 30 \n",
    "\n",
    "\n",
    "train_loss_array = []\n",
    "test_loss_array = []\n",
    "\n",
    "for iterations in range(epochs):    \n",
    "    \n",
    "    running_loss = 0\n",
    "\n",
    "    for images, labels in iter(trainloader):\n",
    "        \n",
    "        optimizer.zero_grad()\n",
    "        \n",
    "        images = images.view(images.shape[0], -1)\n",
    "        \n",
    "        predictions = model(images)\n",
    "        \n",
    "        loss = criterion(predictions, labels)\n",
    "        \n",
    "        loss.backward()\n",
    "        \n",
    "        optimizer.step()\n",
    "\n",
    "        running_loss += loss.item()\n",
    "    else:\n",
    "        test_loss = 0\n",
    "        accuracy = 0\n",
    "        \n",
    "        with torch.no_grad():\n",
    "            \n",
    "            model.eval()\n",
    "            \n",
    "            for images_test, labels_test in iter(testloader):\n",
    "\n",
    "                images_test = images_test.view(images_test.shape[0], -1)\n",
    "                log_predictions = model.forward(images_test)\n",
    "                \n",
    "\n",
    "                test_loss += criterion(log_predictions, labels_test)\n",
    "\n",
    "                predictions = torch.exp(log_predictions)\n",
    "\n",
    "                top_p, top_class = predictions.topk(1, dim = 1)\n",
    "                equals = top_class == labels_test.view(*top_class.shape)\n",
    "                accuracy += torch.mean(equals.type(torch.FloatTensor))\n",
    "        \n",
    "        \n",
    "        model.train()\n",
    "        train_loss_array.append(running_loss/len(trainloader))\n",
    "        test_loss_array.append(test_loss/len(testloader))\n",
    "\n",
    "        print(\"Epoch : {}/{}...\" .format(iterations+1, epochs),\n",
    "             \"Training Loss : {:.3f}..\" .format(running_loss/len(trainloader)),\n",
    "             \"Test Loss : {:.3f}..\" .format(test_loss/len(testloader)),\n",
    "             \"Test Accuracy: {:.3f}\" .format(accuracy/len(testloader)))\n",
    "        \n"
   ]
  },
  {
   "cell_type": "code",
   "execution_count": 12,
   "metadata": {},
   "outputs": [
    {
     "data": {
      "text/plain": [
       "<matplotlib.legend.Legend at 0x1a9c4378188>"
      ]
     },
     "execution_count": 12,
     "metadata": {},
     "output_type": "execute_result"
    },
    {
     "data": {
      "image/png": "[encoded data removed]",
      "text/plain": [
       "<Figure size 432x288 with 1 Axes>"
      ]
     },
     "metadata": {
      "needs_background": "light"
     },
     "output_type": "display_data"
    }
   ],
   "source": [
    "plt.plot(train_loss_array, label = \"Training Loss\")\n",
    "plt.plot(test_loss_array, label = \"Validation Loss\")\n",
    "plt.legend(frameon = False)"
   ]
  },
  {
   "cell_type": "code",
   "execution_count": null,
   "metadata": {},
   "outputs": [],
   "source": []
  }
 ],
 "metadata": {
  "kernelspec": {
   "display_name": "Python 3",
   "language": "python",
   "name": "python3"
  },
  "language_info": {
   "codemirror_mode": {
    "name": "ipython",
    "version": 3
   },
   "file_extension": ".py",
   "mimetype": "text/x-python",
   "name": "python",
   "nbconvert_exporter": "python",
   "pygments_lexer": "ipython3",
   "version": "3.7.7"
  }
 },
 "nbformat": 4,
 "nbformat_minor": 4
}
